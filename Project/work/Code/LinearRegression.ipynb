{
 "cells": [
  {
   "cell_type": "code",
   "execution_count": 38,
   "id": "initial_id",
   "metadata": {
    "collapsed": true,
    "ExecuteTime": {
     "end_time": "2024-12-26T23:19:49.379380Z",
     "start_time": "2024-12-26T23:19:41.254500Z"
    }
   },
   "outputs": [
    {
     "name": "stderr",
     "output_type": "stream",
     "text": [
      "                                                                                \r"
     ]
    },
    {
     "name": "stdout",
     "output_type": "stream",
     "text": [
      "+----+-----+----------+---------+-------+----------+-------+----------+-------------+---------+-------+-----------------+--------------+-------+--------+--------+------+----+--------+------+-------+---------+----------------+--------+------------+------------+--------+-------------+-----------------+\n",
      "|Year|Month|DayofMonth|DayOfWeek|DepTime|CRSDepTime|ArrTime|CRSArrTime|UniqueCarrier|FlightNum|TailNum|ActualElapsedTime|CRSElapsedTime|AirTime|ArrDelay|DepDelay|Origin|Dest|Distance|TaxiIn|TaxiOut|Cancelled|CancellationCode|Diverted|CarrierDelay|WeatherDelay|NASDelay|SecurityDelay|LateAircraftDelay|\n",
      "+----+-----+----------+---------+-------+----------+-------+----------+-------------+---------+-------+-----------------+--------------+-------+--------+--------+------+----+--------+------+-------+---------+----------------+--------+------------+------------+--------+-------------+-----------------+\n",
      "|2008|    1|         3|        4|   2003|      1955|   2211|      2225|           WN|      335| N712SW|              128|           150|    116|     -14|       8|   IAD| TPA|     810|     4|      8|        0|            NULL|       0|          NA|          NA|      NA|           NA|               NA|\n",
      "|2008|    1|         3|        4|    754|       735|   1002|      1000|           WN|     3231| N772SW|              128|           145|    113|       2|      19|   IAD| TPA|     810|     5|     10|        0|            NULL|       0|          NA|          NA|      NA|           NA|               NA|\n",
      "|2008|    1|         3|        4|    628|       620|    804|       750|           WN|      448| N428WN|               96|            90|     76|      14|       8|   IND| BWI|     515|     3|     17|        0|            NULL|       0|          NA|          NA|      NA|           NA|               NA|\n",
      "|2008|    1|         3|        4|    926|       930|   1054|      1100|           WN|     1746| N612SW|               88|            90|     78|      -6|      -4|   IND| BWI|     515|     3|      7|        0|            NULL|       0|          NA|          NA|      NA|           NA|               NA|\n",
      "|2008|    1|         3|        4|   1829|      1755|   1959|      1925|           WN|     3920| N464WN|               90|            90|     77|      34|      34|   IND| BWI|     515|     3|     10|        0|            NULL|       0|           2|           0|       0|            0|               32|\n",
      "+----+-----+----------+---------+-------+----------+-------+----------+-------------+---------+-------+-----------------+--------------+-------+--------+--------+------+----+--------+------+-------+---------+----------------+--------+------------+------------+--------+-------------+-----------------+\n"
     ]
    }
   ],
   "source": [
    "from pyspark.sql import SparkSession\n",
    "\n",
    "# Initialize Spark session\n",
    "spark = SparkSession.builder \\\n",
    "    .appName(\"American-Airlines\") \\\n",
    "    .getOrCreate()\n",
    "\n",
    "# Path to your CSV file\n",
    "csv_file_path = \"/Users/mika/ML-Big-Data/Project/Dataset/2008.csv\"\n",
    "\n",
    "# Read the CSV file into a DataFrame\n",
    "df = spark.read.csv(csv_file_path, header=True, inferSchema=True)\n",
    "\n",
    "# Show the first few rows of the DataFrame\n",
    "df.show(5)"
   ]
  },
  {
   "cell_type": "code",
   "outputs": [
    {
     "name": "stderr",
     "output_type": "stream",
     "text": [
      "                                                                                \r"
     ]
    },
    {
     "data": {
      "text/plain": "7009728"
     },
     "execution_count": 39,
     "metadata": {},
     "output_type": "execute_result"
    }
   ],
   "source": [
    "df.count()"
   ],
   "metadata": {
    "collapsed": false,
    "ExecuteTime": {
     "end_time": "2024-12-26T23:19:52.825772Z",
     "start_time": "2024-12-26T23:19:49.382731Z"
    }
   },
   "id": "bac34157e93a6902",
   "execution_count": 39
  },
  {
   "cell_type": "code",
   "outputs": [],
   "source": [
    "df = df.drop(\"Year\", \"TailNum\", \"CancellationCode\", \"TailNum\", \"DayOfMonth\", \"FlightNum\", \"DepTime\", \"CRSDepTime\", \"CRSArrTime\")"
   ],
   "metadata": {
    "collapsed": false,
    "ExecuteTime": {
     "end_time": "2024-12-26T23:19:52.855200Z",
     "start_time": "2024-12-26T23:19:52.828377Z"
    }
   },
   "id": "39c5d2ebf9d14878",
   "execution_count": 40
  },
  {
   "cell_type": "code",
   "outputs": [
    {
     "name": "stdout",
     "output_type": "stream",
     "text": [
      "+-----+---------+-------+-------------+-----------------+--------------+-------+--------+--------+------+----+--------+------+-------+---------+--------+------------+------------+--------+-------------+-----------------+\n",
      "|Month|DayOfWeek|ArrTime|UniqueCarrier|ActualElapsedTime|CRSElapsedTime|AirTime|ArrDelay|DepDelay|Origin|Dest|Distance|TaxiIn|TaxiOut|Cancelled|Diverted|CarrierDelay|WeatherDelay|NASDelay|SecurityDelay|LateAircraftDelay|\n",
      "+-----+---------+-------+-------------+-----------------+--------------+-------+--------+--------+------+----+--------+------+-------+---------+--------+------------+------------+--------+-------------+-----------------+\n",
      "|    1|        4|   2211|           WN|              128|           150|    116|     -14|       8|   IAD| TPA|     810|     4|      8|        0|       0|          NA|          NA|      NA|           NA|               NA|\n",
      "|    1|        4|   1002|           WN|              128|           145|    113|       2|      19|   IAD| TPA|     810|     5|     10|        0|       0|          NA|          NA|      NA|           NA|               NA|\n",
      "|    1|        4|    804|           WN|               96|            90|     76|      14|       8|   IND| BWI|     515|     3|     17|        0|       0|          NA|          NA|      NA|           NA|               NA|\n",
      "|    1|        4|   1054|           WN|               88|            90|     78|      -6|      -4|   IND| BWI|     515|     3|      7|        0|       0|          NA|          NA|      NA|           NA|               NA|\n",
      "|    1|        4|   1959|           WN|               90|            90|     77|      34|      34|   IND| BWI|     515|     3|     10|        0|       0|           2|           0|       0|            0|               32|\n",
      "+-----+---------+-------+-------------+-----------------+--------------+-------+--------+--------+------+----+--------+------+-------+---------+--------+------------+------------+--------+-------------+-----------------+\n"
     ]
    }
   ],
   "source": [
    "df.show(5)"
   ],
   "metadata": {
    "collapsed": false,
    "ExecuteTime": {
     "end_time": "2024-12-26T23:19:53.205967Z",
     "start_time": "2024-12-26T23:19:52.858843Z"
    }
   },
   "id": "ceefb101bff0721e",
   "execution_count": 41
  },
  {
   "cell_type": "code",
   "outputs": [
    {
     "name": "stderr",
     "output_type": "stream",
     "text": [
      "[Stage 63:>                                                         (0 + 8) / 8]\r"
     ]
    },
    {
     "name": "stdout",
     "output_type": "stream",
     "text": [
      "Number of rows with cancellation = 1: 137434\n"
     ]
    },
    {
     "name": "stderr",
     "output_type": "stream",
     "text": [
      "                                                                                \r"
     ]
    }
   ],
   "source": [
    "cancellation_count = df.filter(df.Cancelled == 1).count()\n",
    "\n",
    "# Print the result\n",
    "print(f\"Number of rows with cancellation = 1: {cancellation_count}\")"
   ],
   "metadata": {
    "collapsed": false,
    "ExecuteTime": {
     "end_time": "2024-12-26T23:19:57.149283Z",
     "start_time": "2024-12-26T23:19:53.207621Z"
    }
   },
   "id": "93f51ea4eb6df65a",
   "execution_count": 42
  },
  {
   "cell_type": "code",
   "outputs": [],
   "source": [
    "\n",
    "# Remove all cancelled flights\n",
    "df = df.filter(df.Cancelled != 1)\n"
   ],
   "metadata": {
    "collapsed": false,
    "ExecuteTime": {
     "end_time": "2024-12-26T23:19:57.159712Z",
     "start_time": "2024-12-26T23:19:57.151674Z"
    }
   },
   "id": "6e720b58b595597c",
   "execution_count": 43
  },
  {
   "cell_type": "code",
   "outputs": [
    {
     "name": "stderr",
     "output_type": "stream",
     "text": [
      "                                                                                \r"
     ]
    },
    {
     "data": {
      "text/plain": "6872294"
     },
     "execution_count": 44,
     "metadata": {},
     "output_type": "execute_result"
    }
   ],
   "source": [
    "df.count()"
   ],
   "metadata": {
    "collapsed": false,
    "ExecuteTime": {
     "end_time": "2024-12-26T23:20:01.985237Z",
     "start_time": "2024-12-26T23:19:57.161397Z"
    }
   },
   "id": "56aa5a0414ab9637",
   "execution_count": 44
  },
  {
   "cell_type": "code",
   "outputs": [],
   "source": [
    "df = df.drop(\"Cancelled\")"
   ],
   "metadata": {
    "collapsed": false,
    "ExecuteTime": {
     "end_time": "2024-12-26T23:20:02.001745Z",
     "start_time": "2024-12-26T23:20:01.988241Z"
    }
   },
   "id": "ab60dd16e2184dda",
   "execution_count": 45
  },
  {
   "cell_type": "code",
   "outputs": [
    {
     "name": "stderr",
     "output_type": "stream",
     "text": [
      "[Stage 69:===========================================>              (6 + 2) / 8]\r"
     ]
    },
    {
     "name": "stdout",
     "output_type": "stream",
     "text": [
      "+-----+---------+-------+-------------+-----------------+--------------+-------+--------+--------+------+----+--------+------+-------+--------+------------+------------+--------+-------------+-----------------+\n",
      "|Month|DayOfWeek|ArrTime|UniqueCarrier|ActualElapsedTime|CRSElapsedTime|AirTime|ArrDelay|DepDelay|Origin|Dest|Distance|TaxiIn|TaxiOut|Diverted|CarrierDelay|WeatherDelay|NASDelay|SecurityDelay|LateAircraftDelay|\n",
      "+-----+---------+-------+-------------+-----------------+--------------+-------+--------+--------+------+----+--------+------+-------+--------+------------+------------+--------+-------------+-----------------+\n",
      "|    0|        0|  14215|            0|            17265|           598|  17265|   17265|       0|     0|   0|       0| 14215|      0|       0|     5347559|     5347559| 5347559|      5347559|          5347559|\n",
      "+-----+---------+-------+-------------+-----------------+--------------+-------+--------+--------+------+----+--------+------+-------+--------+------------+------------+--------+-------------+-----------------+\n"
     ]
    },
    {
     "name": "stderr",
     "output_type": "stream",
     "text": [
      "                                                                                \r"
     ]
    }
   ],
   "source": [
    "from pyspark.sql.functions import col, isnan, when, count\n",
    "\n",
    "# Count NULL or NaN values for each column\n",
    "null_counts = df.select(\n",
    "    [count(when(col(c).isNull() | isnan(col(c)) | (col(c) == \"NA\"), c)).alias(c) for c in df.columns]\n",
    ")\n",
    "\n",
    "# Show the result\n",
    "null_counts.show()"
   ],
   "metadata": {
    "collapsed": false,
    "ExecuteTime": {
     "end_time": "2024-12-26T23:20:54.115915Z",
     "start_time": "2024-12-26T23:20:02.003591Z"
    }
   },
   "id": "203ba09d6595f66b",
   "execution_count": 46
  },
  {
   "cell_type": "code",
   "outputs": [
    {
     "name": "stderr",
     "output_type": "stream",
     "text": [
      "[Stage 72:=======>                                                  (1 + 7) / 8]\r"
     ]
    },
    {
     "name": "stdout",
     "output_type": "stream",
     "text": [
      "Number of rows after filtering: 6855029\n"
     ]
    },
    {
     "name": "stderr",
     "output_type": "stream",
     "text": [
      "                                                                                \r"
     ]
    }
   ],
   "source": [
    "df = df.filter(\n",
    "    (df.ArrTime != \"NA\") & \n",
    "    (df.ActualElapsedTime != \"NA\") & \n",
    "    (df.CRSElapsedTime != \"NA\") & \n",
    "    (df.ArrDelay != \"NA\") & \n",
    "    (df.TaxiIn != \"NA\")\n",
    ")\n",
    "\n",
    "# Show the count of rows after filtering\n",
    "print(f\"Number of rows after filtering: {df.count()}\")"
   ],
   "metadata": {
    "collapsed": false,
    "ExecuteTime": {
     "end_time": "2024-12-26T23:21:02.689499Z",
     "start_time": "2024-12-26T23:20:54.124450Z"
    }
   },
   "id": "c06847a40007f503",
   "execution_count": 47
  },
  {
   "cell_type": "code",
   "outputs": [
    {
     "name": "stdout",
     "output_type": "stream",
     "text": [
      "+-----+---------+-------+-------------+-----------------+--------------+-------+--------+--------+------+----+--------+------+-------+--------+------------+------------+--------+-------------+-----------------+\n",
      "|Month|DayOfWeek|ArrTime|UniqueCarrier|ActualElapsedTime|CRSElapsedTime|AirTime|ArrDelay|DepDelay|Origin|Dest|Distance|TaxiIn|TaxiOut|Diverted|CarrierDelay|WeatherDelay|NASDelay|SecurityDelay|LateAircraftDelay|\n",
      "+-----+---------+-------+-------------+-----------------+--------------+-------+--------+--------+------+----+--------+------+-------+--------+------------+------------+--------+-------------+-----------------+\n",
      "|    1|        4|   2211|           WN|              128|           150|    116|     -14|       8|   IAD| TPA|     810|     4|      8|       0|          NA|          NA|      NA|           NA|               NA|\n",
      "|    1|        4|   1002|           WN|              128|           145|    113|       2|      19|   IAD| TPA|     810|     5|     10|       0|          NA|          NA|      NA|           NA|               NA|\n",
      "|    1|        4|    804|           WN|               96|            90|     76|      14|       8|   IND| BWI|     515|     3|     17|       0|          NA|          NA|      NA|           NA|               NA|\n",
      "|    1|        4|   1054|           WN|               88|            90|     78|      -6|      -4|   IND| BWI|     515|     3|      7|       0|          NA|          NA|      NA|           NA|               NA|\n",
      "|    1|        4|   1959|           WN|               90|            90|     77|      34|      34|   IND| BWI|     515|     3|     10|       0|           2|           0|       0|            0|               32|\n",
      "|    1|        4|   2121|           WN|              101|           115|     87|      11|      25|   IND| JAX|     688|     4|     10|       0|          NA|          NA|      NA|           NA|               NA|\n",
      "|    1|        4|   2037|           WN|              240|           250|    230|      57|      67|   IND| LAS|    1591|     3|      7|       0|          10|           0|       0|            0|               47|\n",
      "|    1|        4|   1132|           WN|              233|           250|    219|     -18|      -1|   IND| LAS|    1591|     7|      7|       0|          NA|          NA|      NA|           NA|               NA|\n",
      "|    1|        4|    652|           WN|               95|            95|     70|       2|       2|   IND| MCI|     451|     6|     19|       0|          NA|          NA|      NA|           NA|               NA|\n",
      "|    1|        4|   1639|           WN|               79|            95|     70|     -16|       0|   IND| MCI|     451|     3|      6|       0|          NA|          NA|      NA|           NA|               NA|\n",
      "|    1|        4|    916|           WN|              130|           135|    106|       1|       6|   IND| MCO|     828|     5|     19|       0|          NA|          NA|      NA|           NA|               NA|\n",
      "|    1|        4|   1845|           WN|              121|           135|    107|      80|      94|   IND| MCO|     828|     6|      8|       0|           8|           0|       0|            0|               72|\n",
      "|    1|        4|   1426|           WN|               60|            55|     39|       1|      -4|   IND| MDW|     162|     9|     12|       0|          NA|          NA|      NA|           NA|               NA|\n",
      "|    1|        4|    720|           WN|               65|            55|     37|      10|       0|   IND| MDW|     162|     7|     21|       0|          NA|          NA|      NA|           NA|               NA|\n",
      "|    1|        4|   1651|           WN|               49|            55|     35|      -4|       2|   IND| MDW|     162|     4|     10|       0|          NA|          NA|      NA|           NA|               NA|\n",
      "|    1|        4|   1021|           WN|               52|            50|     37|      11|       9|   IND| MDW|     162|     6|      9|       0|          NA|          NA|      NA|           NA|               NA|\n",
      "|    1|        4|   1640|           WN|              228|           240|    213|      15|      27|   IND| PHX|    1489|     7|      8|       0|           3|           0|       0|            0|               12|\n",
      "|    1|        4|    940|           WN|              226|           250|    205|     -15|       9|   IND| PHX|    1489|     5|     16|       0|          NA|          NA|      NA|           NA|               NA|\n",
      "|    1|        4|   1526|           WN|              123|           135|    110|      16|      28|   IND| TPA|     838|     4|      9|       0|           0|           0|       0|            0|               16|\n",
      "|    1|        4|   1512|           WN|               56|            70|     49|      37|      51|   ISP| BWI|     220|     2|      5|       0|          12|           0|       0|            0|               25|\n",
      "+-----+---------+-------+-------------+-----------------+--------------+-------+--------+--------+------+----+--------+------+-------+--------+------------+------------+--------+-------------+-----------------+\n"
     ]
    }
   ],
   "source": [
    "df.show()"
   ],
   "metadata": {
    "collapsed": false,
    "ExecuteTime": {
     "end_time": "2024-12-26T23:21:03.217615Z",
     "start_time": "2024-12-26T23:21:02.699138Z"
    }
   },
   "id": "aeb417ffb98bfc2c",
   "execution_count": 48
  },
  {
   "cell_type": "code",
   "outputs": [
    {
     "name": "stdout",
     "output_type": "stream",
     "text": [
      "+-----+---------+-------+-------------+-----------------+--------------+-------+--------+--------+------+----+--------+------+-------+--------+------------+------------+--------+-------------+-----------------+\n",
      "|Month|DayOfWeek|ArrTime|UniqueCarrier|ActualElapsedTime|CRSElapsedTime|AirTime|ArrDelay|DepDelay|Origin|Dest|Distance|TaxiIn|TaxiOut|Diverted|CarrierDelay|WeatherDelay|NASDelay|SecurityDelay|LateAircraftDelay|\n",
      "+-----+---------+-------+-------------+-----------------+--------------+-------+--------+--------+------+----+--------+------+-------+--------+------------+------------+--------+-------------+-----------------+\n",
      "|    1|        4|   2211|           WN|              128|           150|    116|     -14|       8|   IAD| TPA|     810|     4|      8|       0|           0|           0|       0|            0|                0|\n",
      "|    1|        4|   1002|           WN|              128|           145|    113|       2|      19|   IAD| TPA|     810|     5|     10|       0|           0|           0|       0|            0|                0|\n",
      "|    1|        4|    804|           WN|               96|            90|     76|      14|       8|   IND| BWI|     515|     3|     17|       0|           0|           0|       0|            0|                0|\n",
      "|    1|        4|   1054|           WN|               88|            90|     78|      -6|      -4|   IND| BWI|     515|     3|      7|       0|           0|           0|       0|            0|                0|\n",
      "|    1|        4|   1959|           WN|               90|            90|     77|      34|      34|   IND| BWI|     515|     3|     10|       0|           2|           0|       0|            0|               32|\n",
      "|    1|        4|   2121|           WN|              101|           115|     87|      11|      25|   IND| JAX|     688|     4|     10|       0|           0|           0|       0|            0|                0|\n",
      "|    1|        4|   2037|           WN|              240|           250|    230|      57|      67|   IND| LAS|    1591|     3|      7|       0|          10|           0|       0|            0|               47|\n",
      "|    1|        4|   1132|           WN|              233|           250|    219|     -18|      -1|   IND| LAS|    1591|     7|      7|       0|           0|           0|       0|            0|                0|\n",
      "|    1|        4|    652|           WN|               95|            95|     70|       2|       2|   IND| MCI|     451|     6|     19|       0|           0|           0|       0|            0|                0|\n",
      "|    1|        4|   1639|           WN|               79|            95|     70|     -16|       0|   IND| MCI|     451|     3|      6|       0|           0|           0|       0|            0|                0|\n",
      "|    1|        4|    916|           WN|              130|           135|    106|       1|       6|   IND| MCO|     828|     5|     19|       0|           0|           0|       0|            0|                0|\n",
      "|    1|        4|   1845|           WN|              121|           135|    107|      80|      94|   IND| MCO|     828|     6|      8|       0|           8|           0|       0|            0|               72|\n",
      "|    1|        4|   1426|           WN|               60|            55|     39|       1|      -4|   IND| MDW|     162|     9|     12|       0|           0|           0|       0|            0|                0|\n",
      "|    1|        4|    720|           WN|               65|            55|     37|      10|       0|   IND| MDW|     162|     7|     21|       0|           0|           0|       0|            0|                0|\n",
      "|    1|        4|   1651|           WN|               49|            55|     35|      -4|       2|   IND| MDW|     162|     4|     10|       0|           0|           0|       0|            0|                0|\n",
      "|    1|        4|   1021|           WN|               52|            50|     37|      11|       9|   IND| MDW|     162|     6|      9|       0|           0|           0|       0|            0|                0|\n",
      "|    1|        4|   1640|           WN|              228|           240|    213|      15|      27|   IND| PHX|    1489|     7|      8|       0|           3|           0|       0|            0|               12|\n",
      "|    1|        4|    940|           WN|              226|           250|    205|     -15|       9|   IND| PHX|    1489|     5|     16|       0|           0|           0|       0|            0|                0|\n",
      "|    1|        4|   1526|           WN|              123|           135|    110|      16|      28|   IND| TPA|     838|     4|      9|       0|           0|           0|       0|            0|               16|\n",
      "|    1|        4|   1512|           WN|               56|            70|     49|      37|      51|   ISP| BWI|     220|     2|      5|       0|          12|           0|       0|            0|               25|\n",
      "+-----+---------+-------+-------------+-----------------+--------------+-------+--------+--------+------+----+--------+------+-------+--------+------------+------------+--------+-------------+-----------------+\n"
     ]
    }
   ],
   "source": [
    "# List of columns to check\n",
    "columns_to_check = [\"WeatherDelay\", \"NASDelay\", \"SecurityDelay\", \"LateAircraftDelay\", \"CarrierDelay\"]\n",
    "\n",
    "# Loop through columns and replace \"NA\" with 0\n",
    "for column in columns_to_check:\n",
    "    df = df.withColumn(\n",
    "        column,\n",
    "        when(col(column) == \"NA\", 0).otherwise(col(column))\n",
    "    )\n",
    "\n",
    "# Show the updated DataFrame\n",
    "df.show()"
   ],
   "metadata": {
    "collapsed": false,
    "ExecuteTime": {
     "end_time": "2024-12-26T23:21:03.707579Z",
     "start_time": "2024-12-26T23:21:03.221915Z"
    }
   },
   "id": "884fc17cfc334210",
   "execution_count": 49
  },
  {
   "cell_type": "code",
   "outputs": [
    {
     "data": {
      "text/plain": "DataFrame[summary: string, Month: string, DayOfWeek: string, ArrTime: string, UniqueCarrier: string, ActualElapsedTime: string, CRSElapsedTime: string, AirTime: string, ArrDelay: string, DepDelay: string, Origin: string, Dest: string, Distance: string, TaxiIn: string, TaxiOut: string, Diverted: string, CarrierDelay: string, WeatherDelay: string, NASDelay: string, SecurityDelay: string, LateAircraftDelay: string]"
     },
     "execution_count": 50,
     "metadata": {},
     "output_type": "execute_result"
    }
   ],
   "source": [
    "df.describe()"
   ],
   "metadata": {
    "collapsed": false,
    "ExecuteTime": {
     "end_time": "2024-12-26T23:21:03.945819Z",
     "start_time": "2024-12-26T23:21:03.719860Z"
    }
   },
   "id": "bc87e673897ff081",
   "execution_count": 50
  },
  {
   "cell_type": "code",
   "outputs": [
    {
     "name": "stdout",
     "output_type": "stream",
     "text": [
      "root\n",
      " |-- Month: float (nullable = true)\n",
      " |-- DayOfWeek: float (nullable = true)\n",
      " |-- ArrTime: float (nullable = true)\n",
      " |-- UniqueCarrier: string (nullable = true)\n",
      " |-- ActualElapsedTime: float (nullable = true)\n",
      " |-- CRSElapsedTime: float (nullable = true)\n",
      " |-- AirTime: float (nullable = true)\n",
      " |-- ArrDelay: float (nullable = true)\n",
      " |-- DepDelay: float (nullable = true)\n",
      " |-- Origin: string (nullable = true)\n",
      " |-- Dest: string (nullable = true)\n",
      " |-- Distance: float (nullable = true)\n",
      " |-- TaxiIn: float (nullable = true)\n",
      " |-- TaxiOut: float (nullable = true)\n",
      " |-- Diverted: float (nullable = true)\n",
      " |-- CarrierDelay: float (nullable = true)\n",
      " |-- WeatherDelay: float (nullable = true)\n",
      " |-- NASDelay: float (nullable = true)\n",
      " |-- SecurityDelay: float (nullable = true)\n",
      " |-- LateAircraftDelay: float (nullable = true)\n"
     ]
    }
   ],
   "source": [
    "from pyspark.sql import functions as F\n",
    "\n",
    "# List of columns to exclude (non-numeric columns)\n",
    "exclude_columns = [\"UniqueCarrier\", \"Origin\", \"Dest\"]\n",
    "\n",
    "# Get the list of all columns in the DataFrame\n",
    "all_columns = df.columns\n",
    "\n",
    "# Identify columns that need to be cast to float (i.e., all columns except the ones to exclude)\n",
    "columns_to_cast = [col for col in all_columns if col not in exclude_columns]\n",
    "\n",
    "# Loop through the columns that need to be cast and apply the transformation\n",
    "for column in columns_to_cast:\n",
    "    df = df.withColumn(column, F.col(column).cast(\"float\"))\n",
    "\n",
    "# Show the schema to verify the changes\n",
    "df.printSchema()\n"
   ],
   "metadata": {
    "collapsed": false,
    "ExecuteTime": {
     "end_time": "2024-12-26T23:21:04.781827Z",
     "start_time": "2024-12-26T23:21:03.959496Z"
    }
   },
   "id": "2ab0eb41d17416a",
   "execution_count": 51
  },
  {
   "cell_type": "code",
   "outputs": [
    {
     "name": "stdout",
     "output_type": "stream",
     "text": [
      "+-----+---------+-------+-------------+-----------------+--------------+-------+--------+--------+------+----+--------+------+-------+--------+------------+------------+--------+-------------+-----------------+----------+\n",
      "|Month|DayOfWeek|ArrTime|UniqueCarrier|ActualElapsedTime|CRSElapsedTime|AirTime|ArrDelay|DepDelay|Origin|Dest|Distance|TaxiIn|TaxiOut|Diverted|CarrierDelay|WeatherDelay|NASDelay|SecurityDelay|LateAircraftDelay|TotalDelay|\n",
      "+-----+---------+-------+-------------+-----------------+--------------+-------+--------+--------+------+----+--------+------+-------+--------+------------+------------+--------+-------------+-----------------+----------+\n",
      "|  1.0|      4.0| 2211.0|           WN|            128.0|         150.0|  116.0|   -14.0|     8.0|   IAD| TPA|   810.0|   4.0|    8.0|     0.0|         0.0|         0.0|     0.0|          0.0|              0.0|      -6.0|\n",
      "|  1.0|      4.0| 1002.0|           WN|            128.0|         145.0|  113.0|     2.0|    19.0|   IAD| TPA|   810.0|   5.0|   10.0|     0.0|         0.0|         0.0|     0.0|          0.0|              0.0|      21.0|\n",
      "|  1.0|      4.0|  804.0|           WN|             96.0|          90.0|   76.0|    14.0|     8.0|   IND| BWI|   515.0|   3.0|   17.0|     0.0|         0.0|         0.0|     0.0|          0.0|              0.0|      22.0|\n",
      "|  1.0|      4.0| 1054.0|           WN|             88.0|          90.0|   78.0|    -6.0|    -4.0|   IND| BWI|   515.0|   3.0|    7.0|     0.0|         0.0|         0.0|     0.0|          0.0|              0.0|     -10.0|\n",
      "|  1.0|      4.0| 1959.0|           WN|             90.0|          90.0|   77.0|    34.0|    34.0|   IND| BWI|   515.0|   3.0|   10.0|     0.0|         2.0|         0.0|     0.0|          0.0|             32.0|     102.0|\n",
      "+-----+---------+-------+-------------+-----------------+--------------+-------+--------+--------+------+----+--------+------+-------+--------+------------+------------+--------+-------------+-----------------+----------+\n"
     ]
    }
   ],
   "source": [
    "# Create a new column for TotalDelay by summing delay-related columns\n",
    "df = df.withColumn(\n",
    "    \"TotalDelay\",\n",
    "    F.coalesce(F.col(\"ArrDelay\"), F.lit(0)) +\n",
    "    F.coalesce(F.col(\"DepDelay\"), F.lit(0)) +\n",
    "    F.coalesce(F.col(\"CarrierDelay\"), F.lit(0)) +\n",
    "    F.coalesce(F.col(\"WeatherDelay\"), F.lit(0)) +\n",
    "    F.coalesce(F.col(\"NASDelay\"), F.lit(0)) +\n",
    "    F.coalesce(F.col(\"SecurityDelay\"), F.lit(0)) +\n",
    "    F.coalesce(F.col(\"LateAircraftDelay\"), F.lit(0))\n",
    ")\n",
    "\n",
    "# Show the DataFrame with the new TotalDelay column (optional)\n",
    "df.show(5)"
   ],
   "metadata": {
    "collapsed": false,
    "ExecuteTime": {
     "end_time": "2024-12-26T23:21:05.431704Z",
     "start_time": "2024-12-26T23:21:04.796499Z"
    }
   },
   "id": "935b99e3564cde91",
   "execution_count": 52
  },
  {
   "cell_type": "code",
   "outputs": [],
   "source": [
    "train_df, test_df = df.randomSplit([0.8, 0.2], seed=1234)"
   ],
   "metadata": {
    "collapsed": false,
    "ExecuteTime": {
     "end_time": "2024-12-26T23:21:05.564817Z",
     "start_time": "2024-12-26T23:21:05.437078Z"
    }
   },
   "id": "21ea937e9e99c4ab",
   "execution_count": 53
  },
  {
   "cell_type": "code",
   "outputs": [],
   "source": [
    "from pyspark.ml.feature import VectorAssembler\n",
    "\n",
    "# Use VectorAssembler to combine features (same as before, or adjust based on your features)\n",
    "feature_columns = [\"DepDelay\", \"Distance\", \"TaxiIn\", \"TaxiOut\", \"CarrierDelay\", \"WeatherDelay\"]\n",
    "\n",
    "# Create the VectorAssembler\n",
    "assembler = VectorAssembler(inputCols=feature_columns, outputCol=\"features\")\n",
    "\n",
    "# Prepare the data by transforming the train and test datasets\n",
    "train_df = assembler.transform(train_df)\n",
    "test_df = assembler.transform(test_df)"
   ],
   "metadata": {
    "collapsed": false,
    "ExecuteTime": {
     "end_time": "2024-12-26T23:21:09.945356Z",
     "start_time": "2024-12-26T23:21:05.590864Z"
    }
   },
   "id": "bcaa49e7b313a403",
   "execution_count": 54
  },
  {
   "cell_type": "code",
   "outputs": [
    {
     "name": "stderr",
     "output_type": "stream",
     "text": [
      "24/12/27 00:22:29 WARN Instrumentation: [2605afec] regParam is zero, which might cause numerical instability and overfitting.\n",
      "24/12/27 00:22:44 WARN InstanceBuilder: Failed to load implementation from:dev.ludovic.netlib.blas.JNIBLAS\n",
      "24/12/27 00:22:44 WARN InstanceBuilder: Failed to load implementation from:dev.ludovic.netlib.blas.VectorBLAS\n",
      "24/12/27 00:22:50 WARN InstanceBuilder: Failed to load implementation from:dev.ludovic.netlib.lapack.JNILAPACK\n",
      "[Stage 82:>                                                         (0 + 1) / 1]\r"
     ]
    },
    {
     "name": "stdout",
     "output_type": "stream",
     "text": [
      "+----------+-------------------+\n",
      "|TotalDelay|         prediction|\n",
      "+----------+-------------------+\n",
      "|     129.0| 108.50444516572766|\n",
      "|      -1.0|-12.004645453851518|\n",
      "|      -2.0| 29.707258222648562|\n",
      "|     253.0| 251.04898251237773|\n",
      "|      21.0|  21.99608317994369|\n",
      "|       2.0| 14.864066518797607|\n",
      "|     123.0| 132.15877733500258|\n",
      "|     408.0|  378.1795588250817|\n",
      "|      90.0|  67.07290398536061|\n",
      "|      14.0| 19.865080315753367|\n",
      "+----------+-------------------+\n"
     ]
    },
    {
     "name": "stderr",
     "output_type": "stream",
     "text": [
      "                                                                                \r"
     ]
    }
   ],
   "source": [
    "from pyspark.ml.regression import LinearRegression\n",
    "\n",
    "# Initialize the Linear Regression model to predict TotalDelay\n",
    "lr = LinearRegression(featuresCol=\"features\", labelCol=\"TotalDelay\")\n",
    "\n",
    "# Train the model on the training data\n",
    "lr_model = lr.fit(train_df)\n",
    "\n",
    "# Make predictions on the test data\n",
    "predictions = lr_model.transform(test_df)\n",
    "\n",
    "# Show predictions (optional)\n",
    "predictions.select(\"TotalDelay\", \"prediction\").show(10)"
   ],
   "metadata": {
    "collapsed": false,
    "ExecuteTime": {
     "end_time": "2024-12-26T23:23:11.237832Z",
     "start_time": "2024-12-26T23:22:28.471718Z"
    }
   },
   "id": "5f0ca97ef98799b4",
   "execution_count": 55
  },
  {
   "cell_type": "code",
   "outputs": [
    {
     "name": "stderr",
     "output_type": "stream",
     "text": [
      "[Stage 85:=======>                                                  (1 + 7) / 8]\r"
     ]
    },
    {
     "name": "stdout",
     "output_type": "stream",
     "text": [
      "RMSE: 17.50634561433547\n",
      "R2: 0.9736636641350807\n"
     ]
    },
    {
     "name": "stderr",
     "output_type": "stream",
     "text": [
      "                                                                                \r"
     ]
    }
   ],
   "source": [
    "from pyspark.ml.evaluation import RegressionEvaluator\n",
    "\n",
    "# Initialize RegressionEvaluator for RMSE and R2\n",
    "evaluator = RegressionEvaluator(labelCol=\"TotalDelay\", predictionCol=\"prediction\", metricName=\"rmse\")\n",
    "\n",
    "# Calculate RMSE and R2\n",
    "rmse = evaluator.evaluate(predictions)\n",
    "r2 = evaluator.evaluate(predictions, {evaluator.metricName: \"r2\"})\n",
    "\n",
    "print(f\"RMSE: {rmse}\")\n",
    "print(f\"R2: {r2}\")"
   ],
   "metadata": {
    "collapsed": false,
    "ExecuteTime": {
     "end_time": "2024-12-26T23:23:50.956085Z",
     "start_time": "2024-12-26T23:23:23.276005Z"
    }
   },
   "id": "8c531f1bd4f3653d",
   "execution_count": 56
  }
 ],
 "metadata": {
  "kernelspec": {
   "display_name": "Python 3",
   "language": "python",
   "name": "python3"
  },
  "language_info": {
   "codemirror_mode": {
    "name": "ipython",
    "version": 2
   },
   "file_extension": ".py",
   "mimetype": "text/x-python",
   "name": "python",
   "nbconvert_exporter": "python",
   "pygments_lexer": "ipython2",
   "version": "2.7.6"
  }
 },
 "nbformat": 4,
 "nbformat_minor": 5
}
