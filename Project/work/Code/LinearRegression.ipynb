{
 "cells": [
  {
   "cell_type": "code",
   "id": "initial_id",
   "metadata": {
    "collapsed": true,
    "ExecuteTime": {
     "end_time": "2025-01-27T12:38:19.733890Z",
     "start_time": "2025-01-27T12:38:11.020321Z"
    }
   },
   "source": [
    "\n",
    "import os\n",
    "os.environ['PYSPARK_PYTHON'] = '/opt/homebrew/bin/python3.10'\n",
    "os.environ['PYSPARK_DRIVER_PYTHON'] = '/opt/homebrew/bin/python3.10'\n",
    "\n",
    "# Initialize Spark session\n",
    "from pyspark.sql import SparkSession\n",
    "import pyspark.sql.functions as F\n",
    "\n",
    "# Configure Spark with more memory\n",
    "spark = SparkSession.builder \\\n",
    "    .appName(\"American-Airlines\") \\\n",
    "    .config(\"spark.driver.memory\", \"4g\") \\\n",
    "    .config(\"spark.executor.memory\", \"4g\") \\\n",
    "    .config(\"spark.driver.maxResultSize\", \"4g\") \\\n",
    "    .config(\"spark.sql.shuffle.partitions\", \"10\") \\\n",
    "    .getOrCreate()\n",
    "\n",
    "\n",
    "# Path to your CSV file\n",
    "csv_file_path = \"/Users/mika/ML-Big-Data/Project/Dataset/2008.csv\"\n",
    "\n",
    "# Read the CSV file into a DataFrame\n",
    "df = spark.read.csv(csv_file_path, header=True, inferSchema=True)\n",
    "\n",
    "# Show the first few rows of the DataFrame\n",
    "df.show(5)"
   ],
   "outputs": [
    {
     "name": "stderr",
     "output_type": "stream",
     "text": [
      "25/01/27 13:38:12 WARN Utils: Your hostname, Mikas-MacBook-Air.local resolves to a loopback address: 127.0.0.1; using 192.168.0.253 instead (on interface en0)\n",
      "25/01/27 13:38:12 WARN Utils: Set SPARK_LOCAL_IP if you need to bind to another address\n",
      "Setting default log level to \"WARN\".\n",
      "To adjust logging level use sc.setLogLevel(newLevel). For SparkR, use setLogLevel(newLevel).\n",
      "25/01/27 13:38:12 WARN NativeCodeLoader: Unable to load native-hadoop library for your platform... using builtin-java classes where applicable\n",
      "                                                                                \r"
     ]
    },
    {
     "name": "stdout",
     "output_type": "stream",
     "text": [
      "+----+-----+----------+---------+-------+----------+-------+----------+-------------+---------+-------+-----------------+--------------+-------+--------+--------+------+----+--------+------+-------+---------+----------------+--------+------------+------------+--------+-------------+-----------------+\n",
      "|Year|Month|DayofMonth|DayOfWeek|DepTime|CRSDepTime|ArrTime|CRSArrTime|UniqueCarrier|FlightNum|TailNum|ActualElapsedTime|CRSElapsedTime|AirTime|ArrDelay|DepDelay|Origin|Dest|Distance|TaxiIn|TaxiOut|Cancelled|CancellationCode|Diverted|CarrierDelay|WeatherDelay|NASDelay|SecurityDelay|LateAircraftDelay|\n",
      "+----+-----+----------+---------+-------+----------+-------+----------+-------------+---------+-------+-----------------+--------------+-------+--------+--------+------+----+--------+------+-------+---------+----------------+--------+------------+------------+--------+-------------+-----------------+\n",
      "|2008|    1|         3|        4|   2003|      1955|   2211|      2225|           WN|      335| N712SW|              128|           150|    116|     -14|       8|   IAD| TPA|     810|     4|      8|        0|            NULL|       0|          NA|          NA|      NA|           NA|               NA|\n",
      "|2008|    1|         3|        4|    754|       735|   1002|      1000|           WN|     3231| N772SW|              128|           145|    113|       2|      19|   IAD| TPA|     810|     5|     10|        0|            NULL|       0|          NA|          NA|      NA|           NA|               NA|\n",
      "|2008|    1|         3|        4|    628|       620|    804|       750|           WN|      448| N428WN|               96|            90|     76|      14|       8|   IND| BWI|     515|     3|     17|        0|            NULL|       0|          NA|          NA|      NA|           NA|               NA|\n",
      "|2008|    1|         3|        4|    926|       930|   1054|      1100|           WN|     1746| N612SW|               88|            90|     78|      -6|      -4|   IND| BWI|     515|     3|      7|        0|            NULL|       0|          NA|          NA|      NA|           NA|               NA|\n",
      "|2008|    1|         3|        4|   1829|      1755|   1959|      1925|           WN|     3920| N464WN|               90|            90|     77|      34|      34|   IND| BWI|     515|     3|     10|        0|            NULL|       0|           2|           0|       0|            0|               32|\n",
      "+----+-----+----------+---------+-------+----------+-------+----------+-------------+---------+-------+-----------------+--------------+-------+--------+--------+------+----+--------+------+-------+---------+----------------+--------+------------+------------+--------+-------------+-----------------+\n",
      "only showing top 5 rows\n",
      "\n"
     ]
    },
    {
     "name": "stderr",
     "output_type": "stream",
     "text": [
      "25/01/27 13:38:19 WARN SparkStringUtils: Truncated the string representation of a plan since it was too large. This behavior can be adjusted by setting 'spark.sql.debug.maxToStringFields'.\n"
     ]
    }
   ],
   "execution_count": 2
  },
  {
   "cell_type": "code",
   "source": [
    "df.count()"
   ],
   "metadata": {
    "collapsed": false,
    "ExecuteTime": {
     "end_time": "2025-01-27T12:38:21.195763Z",
     "start_time": "2025-01-27T12:38:19.790960Z"
    }
   },
   "id": "bac34157e93a6902",
   "outputs": [
    {
     "name": "stderr",
     "output_type": "stream",
     "text": [
      "                                                                                \r"
     ]
    },
    {
     "data": {
      "text/plain": [
       "7009728"
      ]
     },
     "execution_count": 3,
     "metadata": {},
     "output_type": "execute_result"
    }
   ],
   "execution_count": 3
  },
  {
   "cell_type": "code",
   "source": "df = df.drop(\"Year\", \"TailNum\", \"CancellationCode\", \"TailNum\", \"DayOfMonth\", \"FlightNum\", \"DepTime\", \"CRSDepTime\", \"CRSArrTime\" )",
   "metadata": {
    "collapsed": false,
    "ExecuteTime": {
     "end_time": "2025-01-27T12:38:21.237451Z",
     "start_time": "2025-01-27T12:38:21.223084Z"
    }
   },
   "id": "39c5d2ebf9d14878",
   "outputs": [],
   "execution_count": 4
  },
  {
   "cell_type": "code",
   "source": [
    "df.show(5)"
   ],
   "metadata": {
    "collapsed": false,
    "ExecuteTime": {
     "end_time": "2025-01-27T12:38:21.357141Z",
     "start_time": "2025-01-27T12:38:21.245699Z"
    }
   },
   "id": "ceefb101bff0721e",
   "outputs": [
    {
     "name": "stdout",
     "output_type": "stream",
     "text": [
      "+-----+---------+-------+-------------+-----------------+--------------+-------+--------+--------+------+----+--------+------+-------+---------+--------+------------+------------+--------+-------------+-----------------+\n",
      "|Month|DayOfWeek|ArrTime|UniqueCarrier|ActualElapsedTime|CRSElapsedTime|AirTime|ArrDelay|DepDelay|Origin|Dest|Distance|TaxiIn|TaxiOut|Cancelled|Diverted|CarrierDelay|WeatherDelay|NASDelay|SecurityDelay|LateAircraftDelay|\n",
      "+-----+---------+-------+-------------+-----------------+--------------+-------+--------+--------+------+----+--------+------+-------+---------+--------+------------+------------+--------+-------------+-----------------+\n",
      "|    1|        4|   2211|           WN|              128|           150|    116|     -14|       8|   IAD| TPA|     810|     4|      8|        0|       0|          NA|          NA|      NA|           NA|               NA|\n",
      "|    1|        4|   1002|           WN|              128|           145|    113|       2|      19|   IAD| TPA|     810|     5|     10|        0|       0|          NA|          NA|      NA|           NA|               NA|\n",
      "|    1|        4|    804|           WN|               96|            90|     76|      14|       8|   IND| BWI|     515|     3|     17|        0|       0|          NA|          NA|      NA|           NA|               NA|\n",
      "|    1|        4|   1054|           WN|               88|            90|     78|      -6|      -4|   IND| BWI|     515|     3|      7|        0|       0|          NA|          NA|      NA|           NA|               NA|\n",
      "|    1|        4|   1959|           WN|               90|            90|     77|      34|      34|   IND| BWI|     515|     3|     10|        0|       0|           2|           0|       0|            0|               32|\n",
      "+-----+---------+-------+-------------+-----------------+--------------+-------+--------+--------+------+----+--------+------+-------+---------+--------+------------+------------+--------+-------------+-----------------+\n",
      "only showing top 5 rows\n",
      "\n"
     ]
    }
   ],
   "execution_count": 5
  },
  {
   "cell_type": "code",
   "source": [
    "cancellation_count = df.filter(df.Cancelled == 1).count()\n",
    "\n",
    "# Print the result\n",
    "print(f\"Number of rows with cancellation = 1: {cancellation_count}\")"
   ],
   "metadata": {
    "collapsed": false,
    "ExecuteTime": {
     "end_time": "2025-01-27T12:38:23.229708Z",
     "start_time": "2025-01-27T12:38:21.364966Z"
    }
   },
   "id": "93f51ea4eb6df65a",
   "outputs": [
    {
     "name": "stderr",
     "output_type": "stream",
     "text": [
      "[Stage 7:>                                                          (0 + 8) / 8]\r"
     ]
    },
    {
     "name": "stdout",
     "output_type": "stream",
     "text": [
      "Number of rows with cancellation = 1: 137434\n"
     ]
    },
    {
     "name": "stderr",
     "output_type": "stream",
     "text": [
      "                                                                                \r"
     ]
    }
   ],
   "execution_count": 6
  },
  {
   "metadata": {
    "ExecuteTime": {
     "end_time": "2025-01-27T12:38:24.649405Z",
     "start_time": "2025-01-27T12:38:23.257474Z"
    }
   },
   "cell_type": "code",
   "source": [
    "cancellation_count = df.filter(df.Diverted == 1).count()\n",
    "print(f\"Number of rows with diverted = 1: {cancellation_count}\")"
   ],
   "id": "dc2f56d5c328c533",
   "outputs": [
    {
     "name": "stderr",
     "output_type": "stream",
     "text": [
      "[Stage 10:>                                                         (0 + 8) / 8]\r"
     ]
    },
    {
     "name": "stdout",
     "output_type": "stream",
     "text": [
      "Number of rows with diverted = 1: 17265\n"
     ]
    },
    {
     "name": "stderr",
     "output_type": "stream",
     "text": [
      "                                                                                \r"
     ]
    }
   ],
   "execution_count": 7
  },
  {
   "cell_type": "code",
   "source": [
    "\n",
    "# Remove all cancelled flights\n",
    "df = df.filter(df.Cancelled != 1)\n"
   ],
   "metadata": {
    "collapsed": false,
    "ExecuteTime": {
     "end_time": "2025-01-27T12:38:24.664496Z",
     "start_time": "2025-01-27T12:38:24.654951Z"
    }
   },
   "id": "6e720b58b595597c",
   "outputs": [],
   "execution_count": 8
  },
  {
   "cell_type": "code",
   "source": [
    "df.count()"
   ],
   "metadata": {
    "collapsed": false,
    "ExecuteTime": {
     "end_time": "2025-01-27T12:38:26.120071Z",
     "start_time": "2025-01-27T12:38:24.679066Z"
    }
   },
   "id": "56aa5a0414ab9637",
   "outputs": [
    {
     "name": "stderr",
     "output_type": "stream",
     "text": [
      "                                                                                \r"
     ]
    },
    {
     "data": {
      "text/plain": [
       "6872294"
      ]
     },
     "execution_count": 9,
     "metadata": {},
     "output_type": "execute_result"
    }
   ],
   "execution_count": 9
  },
  {
   "cell_type": "code",
   "source": [
    "df = df.drop(\"Cancelled\")"
   ],
   "metadata": {
    "collapsed": false,
    "ExecuteTime": {
     "end_time": "2025-01-27T12:38:26.135118Z",
     "start_time": "2025-01-27T12:38:26.127266Z"
    }
   },
   "id": "ab60dd16e2184dda",
   "outputs": [],
   "execution_count": 10
  },
  {
   "cell_type": "code",
   "source": [
    "from pyspark.sql.functions import col, isnan, when, count\n",
    "\n",
    "# Count NULL or NaN values for each column\n",
    "null_counts = df.select(\n",
    "    [count(when(col(c).isNull() | isnan(col(c)) | (col(c) == \"NA\"), c)).alias(c) for c in df.columns]\n",
    ")\n",
    "\n",
    "# Show the result\n",
    "null_counts.show()"
   ],
   "metadata": {
    "collapsed": false,
    "ExecuteTime": {
     "end_time": "2025-01-27T12:38:41.693528Z",
     "start_time": "2025-01-27T12:38:26.164204Z"
    }
   },
   "id": "203ba09d6595f66b",
   "outputs": [
    {
     "name": "stderr",
     "output_type": "stream",
     "text": [
      "25/01/27 13:38:29 WARN GarbageCollectionMetrics: To enable non-built-in garbage collector(s) List(G1 Concurrent GC), users should configure it(them) to spark.eventLog.gcMetrics.youngGenerationGarbageCollectors or spark.eventLog.gcMetrics.oldGenerationGarbageCollectors\n",
      "[Stage 16:==================================================>       (7 + 1) / 8]\r"
     ]
    },
    {
     "name": "stdout",
     "output_type": "stream",
     "text": [
      "+-----+---------+-------+-------------+-----------------+--------------+-------+--------+--------+------+----+--------+------+-------+--------+------------+------------+--------+-------------+-----------------+\n",
      "|Month|DayOfWeek|ArrTime|UniqueCarrier|ActualElapsedTime|CRSElapsedTime|AirTime|ArrDelay|DepDelay|Origin|Dest|Distance|TaxiIn|TaxiOut|Diverted|CarrierDelay|WeatherDelay|NASDelay|SecurityDelay|LateAircraftDelay|\n",
      "+-----+---------+-------+-------------+-----------------+--------------+-------+--------+--------+------+----+--------+------+-------+--------+------------+------------+--------+-------------+-----------------+\n",
      "|    0|        0|  14215|            0|            17265|           598|  17265|   17265|       0|     0|   0|       0| 14215|      0|       0|     5347559|     5347559| 5347559|      5347559|          5347559|\n",
      "+-----+---------+-------+-------------+-----------------+--------------+-------+--------+--------+------+----+--------+------+-------+--------+------------+------------+--------+-------------+-----------------+\n",
      "\n"
     ]
    },
    {
     "name": "stderr",
     "output_type": "stream",
     "text": [
      "                                                                                \r"
     ]
    }
   ],
   "execution_count": 11
  },
  {
   "cell_type": "code",
   "source": [
    "df = df.filter(\n",
    "    (df.ArrTime != \"NA\") & \n",
    "    (df.ActualElapsedTime != \"NA\") & \n",
    "    (df.CRSElapsedTime != \"NA\") & \n",
    "    (df.ArrDelay != \"NA\") & \n",
    "    (df.TaxiIn != \"NA\")\n",
    ")\n",
    "\n",
    "# Show the count of rows after filtering\n",
    "print(f\"Number of rows after filtering: {df.count()}\")"
   ],
   "metadata": {
    "collapsed": false,
    "ExecuteTime": {
     "end_time": "2025-01-27T12:38:43.913785Z",
     "start_time": "2025-01-27T12:38:41.776436Z"
    }
   },
   "id": "c06847a40007f503",
   "outputs": [
    {
     "name": "stderr",
     "output_type": "stream",
     "text": [
      "[Stage 19:>                                                         (0 + 8) / 8]\r"
     ]
    },
    {
     "name": "stdout",
     "output_type": "stream",
     "text": [
      "Number of rows after filtering: 6855029\n"
     ]
    },
    {
     "name": "stderr",
     "output_type": "stream",
     "text": [
      "                                                                                \r"
     ]
    }
   ],
   "execution_count": 12
  },
  {
   "cell_type": "code",
   "source": [
    "df.show()"
   ],
   "metadata": {
    "collapsed": false,
    "ExecuteTime": {
     "end_time": "2025-01-27T12:38:44.029034Z",
     "start_time": "2025-01-27T12:38:43.937373Z"
    }
   },
   "id": "aeb417ffb98bfc2c",
   "outputs": [
    {
     "name": "stdout",
     "output_type": "stream",
     "text": [
      "+-----+---------+-------+-------------+-----------------+--------------+-------+--------+--------+------+----+--------+------+-------+--------+------------+------------+--------+-------------+-----------------+\n",
      "|Month|DayOfWeek|ArrTime|UniqueCarrier|ActualElapsedTime|CRSElapsedTime|AirTime|ArrDelay|DepDelay|Origin|Dest|Distance|TaxiIn|TaxiOut|Diverted|CarrierDelay|WeatherDelay|NASDelay|SecurityDelay|LateAircraftDelay|\n",
      "+-----+---------+-------+-------------+-----------------+--------------+-------+--------+--------+------+----+--------+------+-------+--------+------------+------------+--------+-------------+-----------------+\n",
      "|    1|        4|   2211|           WN|              128|           150|    116|     -14|       8|   IAD| TPA|     810|     4|      8|       0|          NA|          NA|      NA|           NA|               NA|\n",
      "|    1|        4|   1002|           WN|              128|           145|    113|       2|      19|   IAD| TPA|     810|     5|     10|       0|          NA|          NA|      NA|           NA|               NA|\n",
      "|    1|        4|    804|           WN|               96|            90|     76|      14|       8|   IND| BWI|     515|     3|     17|       0|          NA|          NA|      NA|           NA|               NA|\n",
      "|    1|        4|   1054|           WN|               88|            90|     78|      -6|      -4|   IND| BWI|     515|     3|      7|       0|          NA|          NA|      NA|           NA|               NA|\n",
      "|    1|        4|   1959|           WN|               90|            90|     77|      34|      34|   IND| BWI|     515|     3|     10|       0|           2|           0|       0|            0|               32|\n",
      "|    1|        4|   2121|           WN|              101|           115|     87|      11|      25|   IND| JAX|     688|     4|     10|       0|          NA|          NA|      NA|           NA|               NA|\n",
      "|    1|        4|   2037|           WN|              240|           250|    230|      57|      67|   IND| LAS|    1591|     3|      7|       0|          10|           0|       0|            0|               47|\n",
      "|    1|        4|   1132|           WN|              233|           250|    219|     -18|      -1|   IND| LAS|    1591|     7|      7|       0|          NA|          NA|      NA|           NA|               NA|\n",
      "|    1|        4|    652|           WN|               95|            95|     70|       2|       2|   IND| MCI|     451|     6|     19|       0|          NA|          NA|      NA|           NA|               NA|\n",
      "|    1|        4|   1639|           WN|               79|            95|     70|     -16|       0|   IND| MCI|     451|     3|      6|       0|          NA|          NA|      NA|           NA|               NA|\n",
      "|    1|        4|    916|           WN|              130|           135|    106|       1|       6|   IND| MCO|     828|     5|     19|       0|          NA|          NA|      NA|           NA|               NA|\n",
      "|    1|        4|   1845|           WN|              121|           135|    107|      80|      94|   IND| MCO|     828|     6|      8|       0|           8|           0|       0|            0|               72|\n",
      "|    1|        4|   1426|           WN|               60|            55|     39|       1|      -4|   IND| MDW|     162|     9|     12|       0|          NA|          NA|      NA|           NA|               NA|\n",
      "|    1|        4|    720|           WN|               65|            55|     37|      10|       0|   IND| MDW|     162|     7|     21|       0|          NA|          NA|      NA|           NA|               NA|\n",
      "|    1|        4|   1651|           WN|               49|            55|     35|      -4|       2|   IND| MDW|     162|     4|     10|       0|          NA|          NA|      NA|           NA|               NA|\n",
      "|    1|        4|   1021|           WN|               52|            50|     37|      11|       9|   IND| MDW|     162|     6|      9|       0|          NA|          NA|      NA|           NA|               NA|\n",
      "|    1|        4|   1640|           WN|              228|           240|    213|      15|      27|   IND| PHX|    1489|     7|      8|       0|           3|           0|       0|            0|               12|\n",
      "|    1|        4|    940|           WN|              226|           250|    205|     -15|       9|   IND| PHX|    1489|     5|     16|       0|          NA|          NA|      NA|           NA|               NA|\n",
      "|    1|        4|   1526|           WN|              123|           135|    110|      16|      28|   IND| TPA|     838|     4|      9|       0|           0|           0|       0|            0|               16|\n",
      "|    1|        4|   1512|           WN|               56|            70|     49|      37|      51|   ISP| BWI|     220|     2|      5|       0|          12|           0|       0|            0|               25|\n",
      "+-----+---------+-------+-------------+-----------------+--------------+-------+--------+--------+------+----+--------+------+-------+--------+------------+------------+--------+-------------+-----------------+\n",
      "only showing top 20 rows\n",
      "\n"
     ]
    }
   ],
   "execution_count": 13
  },
  {
   "cell_type": "code",
   "source": [
    "# List of columns to check\n",
    "columns_to_check = [\"WeatherDelay\", \"NASDelay\", \"SecurityDelay\", \"LateAircraftDelay\", \"CarrierDelay\"]\n",
    "\n",
    "# Loop through columns and replace \"NA\" with 0\n",
    "for column in columns_to_check:\n",
    "    df = df.withColumn(\n",
    "        column,\n",
    "        when(col(column) == \"NA\", 0).otherwise(col(column))\n",
    "    )\n",
    "\n",
    "# Show the updated DataFrame\n",
    "df.show()"
   ],
   "metadata": {
    "collapsed": false,
    "ExecuteTime": {
     "end_time": "2025-01-27T12:38:44.193565Z",
     "start_time": "2025-01-27T12:38:44.044971Z"
    }
   },
   "id": "884fc17cfc334210",
   "outputs": [
    {
     "name": "stdout",
     "output_type": "stream",
     "text": [
      "+-----+---------+-------+-------------+-----------------+--------------+-------+--------+--------+------+----+--------+------+-------+--------+------------+------------+--------+-------------+-----------------+\n",
      "|Month|DayOfWeek|ArrTime|UniqueCarrier|ActualElapsedTime|CRSElapsedTime|AirTime|ArrDelay|DepDelay|Origin|Dest|Distance|TaxiIn|TaxiOut|Diverted|CarrierDelay|WeatherDelay|NASDelay|SecurityDelay|LateAircraftDelay|\n",
      "+-----+---------+-------+-------------+-----------------+--------------+-------+--------+--------+------+----+--------+------+-------+--------+------------+------------+--------+-------------+-----------------+\n",
      "|    1|        4|   2211|           WN|              128|           150|    116|     -14|       8|   IAD| TPA|     810|     4|      8|       0|           0|           0|       0|            0|                0|\n",
      "|    1|        4|   1002|           WN|              128|           145|    113|       2|      19|   IAD| TPA|     810|     5|     10|       0|           0|           0|       0|            0|                0|\n",
      "|    1|        4|    804|           WN|               96|            90|     76|      14|       8|   IND| BWI|     515|     3|     17|       0|           0|           0|       0|            0|                0|\n",
      "|    1|        4|   1054|           WN|               88|            90|     78|      -6|      -4|   IND| BWI|     515|     3|      7|       0|           0|           0|       0|            0|                0|\n",
      "|    1|        4|   1959|           WN|               90|            90|     77|      34|      34|   IND| BWI|     515|     3|     10|       0|           2|           0|       0|            0|               32|\n",
      "|    1|        4|   2121|           WN|              101|           115|     87|      11|      25|   IND| JAX|     688|     4|     10|       0|           0|           0|       0|            0|                0|\n",
      "|    1|        4|   2037|           WN|              240|           250|    230|      57|      67|   IND| LAS|    1591|     3|      7|       0|          10|           0|       0|            0|               47|\n",
      "|    1|        4|   1132|           WN|              233|           250|    219|     -18|      -1|   IND| LAS|    1591|     7|      7|       0|           0|           0|       0|            0|                0|\n",
      "|    1|        4|    652|           WN|               95|            95|     70|       2|       2|   IND| MCI|     451|     6|     19|       0|           0|           0|       0|            0|                0|\n",
      "|    1|        4|   1639|           WN|               79|            95|     70|     -16|       0|   IND| MCI|     451|     3|      6|       0|           0|           0|       0|            0|                0|\n",
      "|    1|        4|    916|           WN|              130|           135|    106|       1|       6|   IND| MCO|     828|     5|     19|       0|           0|           0|       0|            0|                0|\n",
      "|    1|        4|   1845|           WN|              121|           135|    107|      80|      94|   IND| MCO|     828|     6|      8|       0|           8|           0|       0|            0|               72|\n",
      "|    1|        4|   1426|           WN|               60|            55|     39|       1|      -4|   IND| MDW|     162|     9|     12|       0|           0|           0|       0|            0|                0|\n",
      "|    1|        4|    720|           WN|               65|            55|     37|      10|       0|   IND| MDW|     162|     7|     21|       0|           0|           0|       0|            0|                0|\n",
      "|    1|        4|   1651|           WN|               49|            55|     35|      -4|       2|   IND| MDW|     162|     4|     10|       0|           0|           0|       0|            0|                0|\n",
      "|    1|        4|   1021|           WN|               52|            50|     37|      11|       9|   IND| MDW|     162|     6|      9|       0|           0|           0|       0|            0|                0|\n",
      "|    1|        4|   1640|           WN|              228|           240|    213|      15|      27|   IND| PHX|    1489|     7|      8|       0|           3|           0|       0|            0|               12|\n",
      "|    1|        4|    940|           WN|              226|           250|    205|     -15|       9|   IND| PHX|    1489|     5|     16|       0|           0|           0|       0|            0|                0|\n",
      "|    1|        4|   1526|           WN|              123|           135|    110|      16|      28|   IND| TPA|     838|     4|      9|       0|           0|           0|       0|            0|               16|\n",
      "|    1|        4|   1512|           WN|               56|            70|     49|      37|      51|   ISP| BWI|     220|     2|      5|       0|          12|           0|       0|            0|               25|\n",
      "+-----+---------+-------+-------------+-----------------+--------------+-------+--------+--------+------+----+--------+------+-------+--------+------------+------------+--------+-------------+-----------------+\n",
      "only showing top 20 rows\n",
      "\n"
     ]
    }
   ],
   "execution_count": 14
  },
  {
   "cell_type": "code",
   "source": [
    "df.describe()"
   ],
   "metadata": {
    "collapsed": false,
    "ExecuteTime": {
     "end_time": "2025-01-27T12:38:44.290232Z",
     "start_time": "2025-01-27T12:38:44.201236Z"
    }
   },
   "id": "bc87e673897ff081",
   "outputs": [
    {
     "data": {
      "text/plain": [
       "DataFrame[summary: string, Month: string, DayOfWeek: string, ArrTime: string, UniqueCarrier: string, ActualElapsedTime: string, CRSElapsedTime: string, AirTime: string, ArrDelay: string, DepDelay: string, Origin: string, Dest: string, Distance: string, TaxiIn: string, TaxiOut: string, Diverted: string, CarrierDelay: string, WeatherDelay: string, NASDelay: string, SecurityDelay: string, LateAircraftDelay: string]"
      ]
     },
     "execution_count": 15,
     "metadata": {},
     "output_type": "execute_result"
    }
   ],
   "execution_count": 15
  },
  {
   "cell_type": "code",
   "source": [
    "from pyspark.sql import functions as F\n",
    "\n",
    "# List of columns to exclude (non-numeric columns)\n",
    "exclude_columns = [\"UniqueCarrier\", \"Origin\", \"Dest\"]\n",
    "\n",
    "# Get the list of all columns in the DataFrame\n",
    "all_columns = df.columns\n",
    "\n",
    "# Identify columns that need to be cast to float (i.e., all columns except the ones to exclude)\n",
    "columns_to_cast = [col for col in all_columns if col not in exclude_columns]\n",
    "\n",
    "# Loop through the columns that need to be cast and apply the transformation\n",
    "for column in columns_to_cast:\n",
    "    df = df.withColumn(column, F.col(column).cast(\"float\"))\n",
    "\n",
    "# Show the schema to verify the changes\n",
    "df.printSchema()\n"
   ],
   "metadata": {
    "collapsed": false,
    "ExecuteTime": {
     "end_time": "2025-01-27T12:38:44.403648Z",
     "start_time": "2025-01-27T12:38:44.308434Z"
    }
   },
   "id": "2ab0eb41d17416a",
   "outputs": [
    {
     "name": "stdout",
     "output_type": "stream",
     "text": [
      "root\n",
      " |-- Month: float (nullable = true)\n",
      " |-- DayOfWeek: float (nullable = true)\n",
      " |-- ArrTime: float (nullable = true)\n",
      " |-- UniqueCarrier: string (nullable = true)\n",
      " |-- ActualElapsedTime: float (nullable = true)\n",
      " |-- CRSElapsedTime: float (nullable = true)\n",
      " |-- AirTime: float (nullable = true)\n",
      " |-- ArrDelay: float (nullable = true)\n",
      " |-- DepDelay: float (nullable = true)\n",
      " |-- Origin: string (nullable = true)\n",
      " |-- Dest: string (nullable = true)\n",
      " |-- Distance: float (nullable = true)\n",
      " |-- TaxiIn: float (nullable = true)\n",
      " |-- TaxiOut: float (nullable = true)\n",
      " |-- Diverted: float (nullable = true)\n",
      " |-- CarrierDelay: float (nullable = true)\n",
      " |-- WeatherDelay: float (nullable = true)\n",
      " |-- NASDelay: float (nullable = true)\n",
      " |-- SecurityDelay: float (nullable = true)\n",
      " |-- LateAircraftDelay: float (nullable = true)\n",
      "\n"
     ]
    }
   ],
   "execution_count": 16
  },
  {
   "cell_type": "code",
   "source": [
    "from pyspark.sql.functions import hour, when, col\n",
    "\n",
    "# Create a new column for TotalDelay by summing delay-related columns\n",
    "df = df.withColumn(\n",
    "    \"TotalDelay\",\n",
    "    F.coalesce(F.col(\"ArrDelay\"), F.lit(0)) +\n",
    "    F.coalesce(F.col(\"DepDelay\"), F.lit(0)) +\n",
    "    F.coalesce(F.col(\"CarrierDelay\"), F.lit(0)) +\n",
    "    F.coalesce(F.col(\"WeatherDelay\"), F.lit(0)) +\n",
    "    F.coalesce(F.col(\"NASDelay\"), F.lit(0)) +\n",
    "    F.coalesce(F.col(\"SecurityDelay\"), F.lit(0)) +\n",
    "    F.coalesce(F.col(\"LateAircraftDelay\"), F.lit(0))\n",
    ")\n",
    "\n",
    "df.show(5)"
   ],
   "metadata": {
    "collapsed": false,
    "ExecuteTime": {
     "end_time": "2025-01-27T12:38:44.586759Z",
     "start_time": "2025-01-27T12:38:44.413132Z"
    }
   },
   "id": "935b99e3564cde91",
   "outputs": [
    {
     "name": "stdout",
     "output_type": "stream",
     "text": [
      "+-----+---------+-------+-------------+-----------------+--------------+-------+--------+--------+------+----+--------+------+-------+--------+------------+------------+--------+-------------+-----------------+----------+\n",
      "|Month|DayOfWeek|ArrTime|UniqueCarrier|ActualElapsedTime|CRSElapsedTime|AirTime|ArrDelay|DepDelay|Origin|Dest|Distance|TaxiIn|TaxiOut|Diverted|CarrierDelay|WeatherDelay|NASDelay|SecurityDelay|LateAircraftDelay|TotalDelay|\n",
      "+-----+---------+-------+-------------+-----------------+--------------+-------+--------+--------+------+----+--------+------+-------+--------+------------+------------+--------+-------------+-----------------+----------+\n",
      "|  1.0|      4.0| 2211.0|           WN|            128.0|         150.0|  116.0|   -14.0|     8.0|   IAD| TPA|   810.0|   4.0|    8.0|     0.0|         0.0|         0.0|     0.0|          0.0|              0.0|      -6.0|\n",
      "|  1.0|      4.0| 1002.0|           WN|            128.0|         145.0|  113.0|     2.0|    19.0|   IAD| TPA|   810.0|   5.0|   10.0|     0.0|         0.0|         0.0|     0.0|          0.0|              0.0|      21.0|\n",
      "|  1.0|      4.0|  804.0|           WN|             96.0|          90.0|   76.0|    14.0|     8.0|   IND| BWI|   515.0|   3.0|   17.0|     0.0|         0.0|         0.0|     0.0|          0.0|              0.0|      22.0|\n",
      "|  1.0|      4.0| 1054.0|           WN|             88.0|          90.0|   78.0|    -6.0|    -4.0|   IND| BWI|   515.0|   3.0|    7.0|     0.0|         0.0|         0.0|     0.0|          0.0|              0.0|     -10.0|\n",
      "|  1.0|      4.0| 1959.0|           WN|             90.0|          90.0|   77.0|    34.0|    34.0|   IND| BWI|   515.0|   3.0|   10.0|     0.0|         2.0|         0.0|     0.0|          0.0|             32.0|     102.0|\n",
      "+-----+---------+-------+-------------+-----------------+--------------+-------+--------+--------+------+----+--------+------+-------+--------+------------+------------+--------+-------------+-----------------+----------+\n",
      "only showing top 5 rows\n",
      "\n"
     ]
    }
   ],
   "execution_count": 17
  },
  {
   "metadata": {
    "ExecuteTime": {
     "end_time": "2025-01-27T12:38:44.607335Z",
     "start_time": "2025-01-27T12:38:44.598910Z"
    }
   },
   "cell_type": "code",
   "source": "df = df.drop(\"ArrDelay\", \"DepDelay\", \"CarrierDelay\", \"WeatherDelay\", \"NASDelay\", \"SecurityDelay\", \"LateAircraftDelay\", \"Origin\", \"Dest\", \"UniqueCarrier\", \"Month\", \"DayOfWeek\", \"Diverted\" )",
   "id": "6c88da6ffdb5307d",
   "outputs": [],
   "execution_count": 18
  },
  {
   "metadata": {},
   "cell_type": "markdown",
   "source": "Ingen diverted^",
   "id": "cc073c7317f871ee"
  },
  {
   "metadata": {
    "ExecuteTime": {
     "end_time": "2025-01-27T12:38:50.269808Z",
     "start_time": "2025-01-27T12:38:44.674733Z"
    }
   },
   "cell_type": "code",
   "source": [
    "from pyspark.ml.feature import StandardScaler, VectorAssembler\n",
    "from pyspark.ml import Pipeline\n",
    "\n",
    "numeric_cols = [\"ArrTime\", \"ActualElapsedTime\", \"CRSElapsedTime\", \"AirTime\", \"Distance\", \"TaxiIn\", \"TaxiOut\", \"TotalDelay\"]\n",
    "\n",
    "\n",
    "assembler = VectorAssembler(inputCols=numeric_cols, outputCol=\"features\")\n",
    "\n",
    "scaler = StandardScaler(\n",
    "   inputCol=\"features\",\n",
    "   outputCol=\"scaled_features\",\n",
    "   withStd=True,\n",
    "   withMean=True\n",
    ")\n",
    "\n",
    "pipeline = Pipeline(stages=[assembler, scaler])\n",
    "model = pipeline.fit(df)\n",
    "normalized_df = model.transform(df)\n",
    "\n",
    "from pyspark.sql.types import DoubleType\n",
    "\n",
    "# Extract normalized values back to individual columns\n",
    "for i, col in enumerate(numeric_cols):\n",
    "   normalized_df = normalized_df.withColumn(\n",
    "       f\"{col}_normalized\",\n",
    "       F.udf(lambda v: float(v[i]), DoubleType())(\"scaled_features\")\n",
    "   )\n",
    "\n",
    "# Drop intermediate columns\n",
    "normalized_df = normalized_df.drop(\"features\", \"scaled_features\", \"ArrTime\", \"ActualElapsedTime\", \"CRSElapsedTime\", \"AirTime\", \"Distance\", \"TaxiIn\", \"TaxiOut\", \"TotalDelay\")\n",
    "\n"
   ],
   "id": "3d980a40f7620d33",
   "outputs": [
    {
     "name": "stderr",
     "output_type": "stream",
     "text": [
      "                                                                                \r"
     ]
    }
   ],
   "execution_count": 19
  },
  {
   "metadata": {
    "ExecuteTime": {
     "end_time": "2025-01-27T12:38:51.481245Z",
     "start_time": "2025-01-27T12:38:50.284167Z"
    }
   },
   "cell_type": "code",
   "source": "normalized_df.show(5)",
   "id": "2f80777104646ec3",
   "outputs": [
    {
     "name": "stderr",
     "output_type": "stream",
     "text": [
      "[Stage 28:>                                                         (0 + 1) / 1]\r"
     ]
    },
    {
     "name": "stdout",
     "output_type": "stream",
     "text": [
      "+-------------------+----------------------------+-------------------------+--------------------+--------------------+--------------------+-------------------+---------------------+\n",
      "| ArrTime_normalized|ActualElapsedTime_normalized|CRSElapsedTime_normalized|  AirTime_normalized| Distance_normalized|   TaxiIn_normalized| TaxiOut_normalized|TotalDelay_normalized|\n",
      "+-------------------+----------------------------+-------------------------+--------------------+--------------------+--------------------+-------------------+---------------------+\n",
      "| 1.4446406057361534|        0.009653829068129543|       0.3008970272696851|   0.177660841130685|  0.1442644055700898| -0.5800082185828016|-0.7465270652882132|  -0.3411327654407681|\n",
      "|-0.9487922092808968|        0.009653829068129543|      0.22898842634807962| 0.13317672077029769|  0.1442644055700898|-0.37721879664093644|-0.5697021070225374| -0.09037429034533025|\n",
      "|-1.3407687993333168|         -0.4462690574973425|      -0.5620061837895808|-0.41546076367447926|-0.37948661066389516| -0.7827976405246668|0.04918524690732795| -0.08108693941586959|\n",
      "| -0.845848862398443|         -0.5602497791387105|      -0.5620061837895808| -0.3858046834342211|-0.37948661066389516| -0.7827976405246668|-0.8349395444210511| -0.37828216915861074|\n",
      "| 0.9457613093058005|         -0.5317545987283686|      -0.5620061837895808| -0.4006327235543502|-0.37948661066389516| -0.7827976405246668|-0.5697021070225374|   0.6619011349409835|\n",
      "+-------------------+----------------------------+-------------------------+--------------------+--------------------+--------------------+-------------------+---------------------+\n",
      "only showing top 5 rows\n",
      "\n"
     ]
    },
    {
     "name": "stderr",
     "output_type": "stream",
     "text": [
      "                                                                                \r"
     ]
    }
   ],
   "execution_count": 20
  },
  {
   "metadata": {
    "ExecuteTime": {
     "end_time": "2025-01-27T12:38:51.525848Z",
     "start_time": "2025-01-27T12:38:51.512565Z"
    }
   },
   "cell_type": "code",
   "source": "train_df, test_df = normalized_df.randomSplit([0.8, 0.2], seed=1234)",
   "id": "47822c8b918ba0c9",
   "outputs": [],
   "execution_count": 21
  },
  {
   "metadata": {
    "ExecuteTime": {
     "end_time": "2025-01-27T12:39:51.859499Z",
     "start_time": "2025-01-27T12:38:51.589701Z"
    }
   },
   "cell_type": "code",
   "source": [
    "from pyspark.ml.regression import LinearRegression\n",
    "\n",
    "# Select feature columns and target\n",
    "feature_cols = [col for col in normalized_df.columns if col.endswith('_normalized') and col != 'TotalDelay_normalized']\n",
    "train_data = train_df.select(feature_cols + ['TotalDelay_normalized'])\n",
    "test_data = test_df.select(feature_cols + ['TotalDelay_normalized'])\n",
    "\n",
    "# Prepare for linear regression\n",
    "assembler = VectorAssembler(inputCols=feature_cols, outputCol=\"features\")\n",
    "lr = LinearRegression(featuresCol=\"features\", labelCol=\"TotalDelay_normalized\")\n",
    "pipeline = Pipeline(stages=[assembler, lr])\n",
    "\n",
    "# Train model\n",
    "model = pipeline.fit(train_data)"
   ],
   "id": "5c06656aafa60da1",
   "outputs": [
    {
     "name": "stderr",
     "output_type": "stream",
     "text": [
      "25/01/27 13:38:51 WARN Instrumentation: [e5444b6e] regParam is zero, which might cause numerical instability and overfitting.\n",
      "25/01/27 13:39:17 WARN InstanceBuilder: Failed to load implementation from:dev.ludovic.netlib.blas.JNIBLAS\n",
      "25/01/27 13:39:17 WARN InstanceBuilder: Failed to load implementation from:dev.ludovic.netlib.blas.VectorBLAS\n",
      "25/01/27 13:39:20 WARN InstanceBuilder: Failed to load implementation from:dev.ludovic.netlib.lapack.JNILAPACK\n",
      "                                                                                \r"
     ]
    }
   ],
   "execution_count": 22
  },
  {
   "metadata": {
    "ExecuteTime": {
     "end_time": "2025-01-27T12:40:55.664199Z",
     "start_time": "2025-01-27T12:39:51.949435Z"
    }
   },
   "cell_type": "code",
   "source": [
    "from pyspark.ml.evaluation import RegressionEvaluator\n",
    "\n",
    "# Make predictions\n",
    "train_predictions = model.transform(train_data)\n",
    "test_predictions = model.transform(test_data)\n",
    "\n",
    "# View predictions and evaluate\n",
    "evaluator = RegressionEvaluator(labelCol=\"TotalDelay_normalized\", predictionCol=\"prediction\")\n",
    "rmse = evaluator.evaluate(test_predictions, {evaluator.metricName: \"rmse\"})\n",
    "r2 = evaluator.evaluate(test_predictions, {evaluator.metricName: \"r2\"})\n",
    "\n",
    "print(f\"RMSE: {rmse:.4f}\")\n",
    "print(f\"R²: {r2:.4f}\")"
   ],
   "id": "20aed76afa59feac",
   "outputs": [
    {
     "name": "stderr",
     "output_type": "stream",
     "text": [
      "[Stage 35:====================================>                     (5 + 3) / 8]\r"
     ]
    },
    {
     "name": "stdout",
     "output_type": "stream",
     "text": [
      "RMSE: 0.9593\n",
      "R²: 0.0852\n"
     ]
    },
    {
     "name": "stderr",
     "output_type": "stream",
     "text": [
      "                                                                                \r"
     ]
    }
   ],
   "execution_count": 23
  },
  {
   "metadata": {
    "ExecuteTime": {
     "end_time": "2025-01-27T12:40:55.781152Z",
     "start_time": "2025-01-27T12:40:55.769082Z"
    }
   },
   "cell_type": "code",
   "source": "train_df, test_df = df.randomSplit([0.8, 0.2], seed=1234)",
   "id": "4a55d72b9cbba3e4",
   "outputs": [],
   "execution_count": 24
  },
  {
   "metadata": {
    "ExecuteTime": {
     "end_time": "2025-01-27T12:44:59.040595Z",
     "start_time": "2025-01-27T12:44:43.993918Z"
    }
   },
   "cell_type": "code",
   "source": [
    "# Select feature columns and target\n",
    "feature_cols = [col for col in df.columns if col != 'TotalDelay']\n",
    "train_data = train_df.select(feature_cols + ['TotalDelay'])\n",
    "test_data = test_df.select(feature_cols + ['TotalDelay'])\n",
    "\n",
    "# Prepare for linear regression\n",
    "assembler = VectorAssembler(inputCols=feature_cols, outputCol=\"features\")\n",
    "lr = LinearRegression(featuresCol=\"features\", labelCol=\"TotalDelay\")\n",
    "pipeline = Pipeline(stages=[assembler, lr])\n",
    "\n",
    "# Train model\n",
    "model = pipeline.fit(train_data)"
   ],
   "id": "6ac5bddd5dfd0a42",
   "outputs": [
    {
     "name": "stderr",
     "output_type": "stream",
     "text": [
      "25/01/27 13:44:44 WARN Instrumentation: [459853f6] regParam is zero, which might cause numerical instability and overfitting.\n",
      "25/01/27 13:44:51 WARN Instrumentation: [459853f6] Cholesky solver failed due to singular covariance matrix. Retrying with Quasi-Newton solver.\n",
      "                                                                                \r"
     ]
    }
   ],
   "execution_count": 26
  },
  {
   "metadata": {
    "ExecuteTime": {
     "end_time": "2025-01-27T12:45:39.007348Z",
     "start_time": "2025-01-27T12:45:23.565772Z"
    }
   },
   "cell_type": "code",
   "source": [
    "# Make predictions\n",
    "train_predictions = model.transform(train_data)\n",
    "test_predictions = model.transform(test_data)\n",
    "\n",
    "# View predictions and evaluate\n",
    "evaluator = RegressionEvaluator(labelCol=\"TotalDelay\", predictionCol=\"prediction\")\n",
    "rmse = evaluator.evaluate(test_predictions, {evaluator.metricName: \"rmse\"})\n",
    "r2 = evaluator.evaluate(test_predictions, {evaluator.metricName: \"r2\"})\n",
    "\n",
    "print(f\"RMSE: {rmse:.4f}\")\n",
    "print(f\"R²: {r2:.4f}\")"
   ],
   "id": "a04fb5d34bbb21ee",
   "outputs": [
    {
     "name": "stderr",
     "output_type": "stream",
     "text": [
      "[Stage 44:>                                                         (0 + 8) / 8]\r"
     ]
    },
    {
     "name": "stdout",
     "output_type": "stream",
     "text": [
      "RMSE: 103.2884\n",
      "R²: 0.0852\n"
     ]
    },
    {
     "name": "stderr",
     "output_type": "stream",
     "text": [
      "                                                                                \r"
     ]
    }
   ],
   "execution_count": 28
  }
 ],
 "metadata": {
  "kernelspec": {
   "display_name": "Python 3",
   "language": "python",
   "name": "python3"
  },
  "language_info": {
   "codemirror_mode": {
    "name": "ipython",
    "version": 2
   },
   "file_extension": ".py",
   "mimetype": "text/x-python",
   "name": "python",
   "nbconvert_exporter": "python",
   "pygments_lexer": "ipython2",
   "version": "2.7.6"
  }
 },
 "nbformat": 4,
 "nbformat_minor": 5
}
